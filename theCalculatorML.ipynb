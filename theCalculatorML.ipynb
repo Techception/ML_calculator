{
 "cells": [
  {
   "cell_type": "code",
   "execution_count": null,
   "metadata": {},
   "outputs": [],
   "source": [
    "#project for ML to figure ways to calculate a total of 8 via a combinations of mathematical operators \n",
    "\n",
    "#the program will attempt random combintions of numbers and operators \n",
    "#the program will adjust considering previous attempts e.g. was the total too large or too small and adjust accordingly \n",
    "#successful combinations will be included into a list of combinations \n",
    "#program should avoid repeating combinations and avoid non trivial combinations / unsimplified form \n",
    "#program should vary the number of operations used creatively \n",
    "\n",
    "# can use truth operator == \n",
    "# program will need to imagine combinations to be tested "
   ]
  },
  {
   "cell_type": "code",
   "execution_count": 3,
   "metadata": {},
   "outputs": [],
   "source": [
    "import random\n"
   ]
  },
  {
   "cell_type": "code",
   "execution_count": 6,
   "metadata": {},
   "outputs": [],
   "source": [
    "def imagine():\n",
    "    # NUMBER OF OPERATIONS \n",
    "    OPERATIONS = int(random.random()*10) \n",
    "    # program decides how many operations to try e.g. 1 = x + y (1 addition), 2 = x + y * z (1 additiona 1 multiply) \n",
    "    # wouldnt expect same operator in the same operatin level e.g. x + y + z (not ok if all real numbers as it could be simplified) \n",
    "    # however program might be able to benefit by telling non simplified forms \n",
    "\n",
    "    #WHAT NUMBERS TO OPERATE ON \n",
    "    NUM_OF_VALUES = OPERATIONS + 1 \n",
    "    # e.g if 1 addition operation, there should be 2 values to add, x + y \n",
    "    ## todo: consider single number functions e.g. factorials.\n",
    "    # we just need an array equal to this size\n",
    "    # then ill just add a random number \n",
    "    # ill begin with positive real numbers for now but consider extending later \n",
    "    values = [int(random.random()*10) for VALUE in range(NUM_OF_VALUES)]\n",
    "    # this will return non unique values.  \n",
    "    # this could affect the simplification requirement \n",
    "\n",
    "    #SPECIFIC MATHEMATICAL OPERATORS TO TRY \n",
    "    SET_OF_OPERATORS = ['+','-','*','//','%','**']\n",
    "    chosen_operators = random.choices(SET_OF_OPERATORS, k=OPERATIONS)\n",
    "\n",
    "    return chosen_operators\n",
    "    "
   ]
  },
  {
   "cell_type": "code",
   "execution_count": 7,
   "metadata": {},
   "outputs": [
    {
     "data": {
      "text/plain": [
       "['//', '-', '+', '+', '**', '//']"
      ]
     },
     "execution_count": 7,
     "metadata": {},
     "output_type": "execute_result"
    }
   ],
   "source": [
    "imagine()"
   ]
  },
  {
   "cell_type": "code",
   "execution_count": 42,
   "metadata": {},
   "outputs": [
    {
     "data": {
      "text/plain": [
       "[5, 3, 3, 5]"
      ]
     },
     "execution_count": 42,
     "metadata": {},
     "output_type": "execute_result"
    }
   ],
   "source": [
    "random.choices(imagine(), k = 4)\n",
    "# https://pynative.com/python-random-choice/"
   ]
  }
 ],
 "metadata": {
  "kernelspec": {
   "display_name": "Python 3",
   "language": "python",
   "name": "python3"
  },
  "language_info": {
   "codemirror_mode": {
    "name": "ipython",
    "version": 3
   },
   "file_extension": ".py",
   "mimetype": "text/x-python",
   "name": "python",
   "nbconvert_exporter": "python",
   "pygments_lexer": "ipython3",
   "version": "3.9.7"
  },
  "orig_nbformat": 4,
  "vscode": {
   "interpreter": {
    "hash": "c347c8f9a7ef94e4c9e03b4513be7835ed18f45b99a2a817fb579f408b867b16"
   }
  }
 },
 "nbformat": 4,
 "nbformat_minor": 2
}
